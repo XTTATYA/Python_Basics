{
  "nbformat": 4,
  "nbformat_minor": 0,
  "metadata": {
    "colab": {
      "provenance": [],
      "toc_visible": true
    },
    "kernelspec": {
      "name": "python3",
      "display_name": "Python 3"
    },
    "language_info": {
      "name": "python"
    }
  },
  "cells": [
    {
      "cell_type": "code",
      "execution_count": null,
      "metadata": {
        "id": "sIhhZdlZ4xt6"
      },
      "outputs": [],
      "source": [
        "\n"
      ]
    },
    {
      "cell_type": "markdown",
      "source": [],
      "metadata": {
        "id": "KSoWlPKc437t"
      }
    },
    {
      "cell_type": "markdown",
      "source": [
        "#Python basic\n",
        "##Q1)What is Python, and why is it popular?\n",
        "Python ia programming language discovered by Guido Van Rossum during 1990's . Python is widely used in the industry . Its readability and simplicity is the reason  It diffrentiates itself from other programming languages due to its vast amount of libraries present. Such as Numpy, Panda dor Data analytics etc.\n",
        "\n",
        "\n",
        "##Q2)What is an interpreter in Python?\n",
        " An interpreter in python is a computer program which converts high level programming language into machine code for the computer to understand.\n",
        " Unlike C,C++ there is no need of compilation, as the interpreter directly executes the python code rather than compliling it.\n",
        "\n",
        "##Q3)What are pre-defined keywords in Python?\n",
        " Keywords are reserved words in python having a special meaning. It cannot be used as identifiers . Examples can be : break,while,not in etc. Keywords are case sensitive and cannot be redefined.\n",
        "\n",
        "##Q4)Can keywords be used as variable names?\n",
        "\n",
        "No, keywords are reserved words in python having a special meaning .They are case sensitive and cannot be used as identifiers like variables etc.\n",
        "Even if overriding of keyword is done by variable , innaccuracy will occur in output of code.\n",
        "\n",
        "##Q5)What is mutability in Python?\n",
        "Mutability can be defined as the power to **change** an object after its creation. Such data types are list,dictionaries etc and are called as mutable data types .\n",
        "\n",
        "##Q6)Why are lists mutable, but tuples are immutable?\n",
        "List are mutable as changes can be made after its creation .On the other hand tuples and strings are immutable as no change/edit can occur after its creation.\n",
        "\n",
        "##Q7)What is the difference between “==” and “is” operators in Python?\n",
        "\"==\" is a comparison operator used in python to check if values are equal or not. While, \"is\" an identity operator which is used to compare memory location of 2 values. eg:-a is b output:-False\n",
        "\n",
        "##Q8)What are logical operators in Python?\n",
        "Logical operators in python are used to perform logical operations on boolean values which are either True Or False.These operations are namely *AND*,*OR* and *NOT*.\n",
        "\n",
        "##Q9)What is type casting in Python?\n",
        "Typecasting or Typeconversaion is process of converting a datatype to another datatype based on requiremnet. We can change datatype of identifier using **type()**, and in order to conver it into a speceifc datatype just add datatype at start to specify. Eg:-int(a),str(o) etc\n",
        "\n",
        "##Q10)What is the difference between implicit and explicit type casting?\n",
        "implicit typecasting is where python automatically understands the datatype. For eg:- 2+6.5=\"8.5\" . While, explicit typecasting is the processs of typecasting using inbuilt functions such as str(),float(),int()etc.\n",
        "\n",
        "##Q11)What is the purpose of conditional statements in Python?\n",
        "Conditional statements are used when there are one or more conditions present in python. This helps in decision making process in python.There diffrent conditional statements based on the amount of conditions present.\n",
        "Eg:- if,if-else and if-elif/elseif-else\n",
        "\n",
        "##Q12)How does the elif statement work?\n",
        "Elif statemets works when there are multiple condtions present. It works in such a way if-elif-else statement ,if in \"if\" statement condtion is true,then the block od code in if will run and rest will be ignored.Similarly in case of eil ,if its true than it will run otherwise no and vice versa.Its syntax requires indentation and is:-\n",
        "**If:**\n",
        "  *block of code*\n",
        "**elif:**\n",
        "  *block of code*\n",
        "**else:**\n",
        "  *block of code*\n",
        "\n",
        "##Q13)What is the difference between for and while loops?\n",
        "Both for and while are *loop* statements.“for” loops are used for iterating over a sequence of elements, while “while” loops are used for executing code until a specified condition becomes False.\n",
        "\n",
        "##Q14)Describe a scenario where a while loop is more suitable than a for loop?\n",
        "\n",
        "A **while** loop is more suitable than a **for** loop when the number of iterations is not known in advance and depends on a condition being true or false during execution.\n",
        "\n",
        "\n",
        "\n",
        "\n",
        "\n",
        "\n",
        "\n",
        "\n",
        "\n",
        "\n",
        "\n",
        "\n"
      ],
      "metadata": {
        "id": "61wAAKc-5zKS"
      }
    },
    {
      "cell_type": "markdown",
      "source": [
        "##PRACTICAL QUESTIONS"
      ],
      "metadata": {
        "id": "DrS6DUiC7dkI"
      }
    },
    {
      "cell_type": "code",
      "source": [
        "#Q1)Write a Python program to print \"Hello, World!\n",
        "print(\"Hello, World!\")\n"
      ],
      "metadata": {
        "colab": {
          "base_uri": "https://localhost:8080/"
        },
        "id": "KjFHbTOV7k-0",
        "outputId": "169186e8-07b4-42c0-abd2-0338ea83a2d5"
      },
      "execution_count": 1,
      "outputs": [
        {
          "output_type": "stream",
          "name": "stdout",
          "text": [
            "Hello, World!\n"
          ]
        }
      ]
    },
    {
      "cell_type": "code",
      "source": [
        "#2)Write a Python program that displays your name and age\n",
        "name=input(\"Enter your name:\")\n",
        "age=int(input(\"Enter your age:\"))\n",
        "print(\"Hello,\",name,\"! You are\",age,\"years old.\")\n"
      ],
      "metadata": {
        "colab": {
          "base_uri": "https://localhost:8080/"
        },
        "id": "JZJk0tYV7wTj",
        "outputId": "6dd23ee2-d13d-45ff-e50c-c9c4829901b2"
      },
      "execution_count": 2,
      "outputs": [
        {
          "output_type": "stream",
          "name": "stdout",
          "text": [
            "Enter your name:Taha\n",
            "Enter your age:22\n",
            "Hello, Taha ! You are 22 years old.\n"
          ]
        }
      ]
    },
    {
      "cell_type": "code",
      "source": [
        "#Q3)Write code to print all the pre-defined keywords in Python using the keyword library\n",
        "help('keywords')"
      ],
      "metadata": {
        "colab": {
          "base_uri": "https://localhost:8080/"
        },
        "id": "ikKqWj4-8eYc",
        "outputId": "00a46a1b-dc9e-4d23-f1d7-90151a1aa917"
      },
      "execution_count": 3,
      "outputs": [
        {
          "output_type": "stream",
          "name": "stdout",
          "text": [
            "\n",
            "Here is a list of the Python keywords.  Enter any keyword to get more help.\n",
            "\n",
            "False               class               from                or\n",
            "None                continue            global              pass\n",
            "True                def                 if                  raise\n",
            "and                 del                 import              return\n",
            "as                  elif                in                  try\n",
            "assert              else                is                  while\n",
            "async               except              lambda              with\n",
            "await               finally             nonlocal            yield\n",
            "break               for                 not                 \n",
            "\n"
          ]
        }
      ]
    },
    {
      "cell_type": "code",
      "source": [
        "#Q4)Write a program that checks if a given word is a Python keyword\n",
        "import keyword#import library keyword\n",
        "word=input(\"Enter a word:\")\n",
        "if word in keyword.kwlist:#keyword.kwlist is a list containing of all keywords in python,and it is autoimported\n",
        "  print(word,\"is a keyword\")\n",
        "else:\n",
        "  print(word,\"is not a keyword\")"
      ],
      "metadata": {
        "colab": {
          "base_uri": "https://localhost:8080/"
        },
        "id": "mzETm8Fo8g5x",
        "outputId": "3c79ed72-6818-42eb-b847-0f468736aa46"
      },
      "execution_count": 4,
      "outputs": [
        {
          "output_type": "stream",
          "name": "stdout",
          "text": [
            "Enter a word:break\n",
            "break is a keyword\n"
          ]
        }
      ]
    },
    {
      "cell_type": "code",
      "source": [
        "#Q5)Create a list and tuple in Python, and demonstrate how attempting to change an element works differently\n",
        "#for each\n",
        "my_list=[1,\"Taha\",23,34.56]\n",
        "print(\"Before change:\",my_list)\n",
        "my_list[1]=2#changing first element of list\n",
        "print(\"After change:\",my_list)\n",
        "my_tuple=(1,\"omer\",21,34.56)\n",
        "print(\"Before change:\",my_tuple)\n",
        "my_tuple[1]=2#try to change first element of tuple\n",
        "print(\"After change:\",my_tuple)#error will arise as tuple is immutable,while list is mutable data type"
      ],
      "metadata": {
        "colab": {
          "base_uri": "https://localhost:8080/",
          "height": 245
        },
        "id": "VPIA34RW8vRT",
        "outputId": "a1250a0b-e79f-4c90-d386-91859dde74bd"
      },
      "execution_count": 5,
      "outputs": [
        {
          "output_type": "stream",
          "name": "stdout",
          "text": [
            "Before change: [1, 'Taha', 23, 34.56]\n",
            "After change: [1, 2, 23, 34.56]\n",
            "Before change: (1, 'omer', 21, 34.56)\n"
          ]
        },
        {
          "output_type": "error",
          "ename": "TypeError",
          "evalue": "'tuple' object does not support item assignment",
          "traceback": [
            "\u001b[0;31m---------------------------------------------------------------------------\u001b[0m",
            "\u001b[0;31mTypeError\u001b[0m                                 Traceback (most recent call last)",
            "\u001b[0;32m<ipython-input-5-fa7abb7a5883>\u001b[0m in \u001b[0;36m<cell line: 8>\u001b[0;34m()\u001b[0m\n\u001b[1;32m      6\u001b[0m \u001b[0mmy_tuple\u001b[0m\u001b[0;34m=\u001b[0m\u001b[0;34m(\u001b[0m\u001b[0;36m1\u001b[0m\u001b[0;34m,\u001b[0m\u001b[0;34m\"omer\"\u001b[0m\u001b[0;34m,\u001b[0m\u001b[0;36m21\u001b[0m\u001b[0;34m,\u001b[0m\u001b[0;36m34.56\u001b[0m\u001b[0;34m)\u001b[0m\u001b[0;34m\u001b[0m\u001b[0;34m\u001b[0m\u001b[0m\n\u001b[1;32m      7\u001b[0m \u001b[0mprint\u001b[0m\u001b[0;34m(\u001b[0m\u001b[0;34m\"Before change:\"\u001b[0m\u001b[0;34m,\u001b[0m\u001b[0mmy_tuple\u001b[0m\u001b[0;34m)\u001b[0m\u001b[0;34m\u001b[0m\u001b[0;34m\u001b[0m\u001b[0m\n\u001b[0;32m----> 8\u001b[0;31m \u001b[0mmy_tuple\u001b[0m\u001b[0;34m[\u001b[0m\u001b[0;36m1\u001b[0m\u001b[0;34m]\u001b[0m\u001b[0;34m=\u001b[0m\u001b[0;36m2\u001b[0m\u001b[0;31m#try to change first element of tuple\u001b[0m\u001b[0;34m\u001b[0m\u001b[0;34m\u001b[0m\u001b[0m\n\u001b[0m\u001b[1;32m      9\u001b[0m \u001b[0mprint\u001b[0m\u001b[0;34m(\u001b[0m\u001b[0;34m\"After change:\"\u001b[0m\u001b[0;34m,\u001b[0m\u001b[0mmy_tuple\u001b[0m\u001b[0;34m)\u001b[0m\u001b[0;31m#error will arise as tuple is immutable,while list is mutable data type\u001b[0m\u001b[0;34m\u001b[0m\u001b[0;34m\u001b[0m\u001b[0m\n",
            "\u001b[0;31mTypeError\u001b[0m: 'tuple' object does not support item assignment"
          ]
        }
      ]
    },
    {
      "cell_type": "code",
      "source": [
        "#Q6)Write a function to demonstrate the behavior of mutable and immutable arguments\n",
        "def demonstrate_mutable_and_immutable(mutable, immutable):\n",
        "    # Modify the mutable argument (list)\n",
        "    mutable.append(7922)\n",
        "    print(\"Inside function, mutable(after modification):\", mutable)\n",
        "\n",
        "    # Attempt to modify the immutable argument (integer)\n",
        "    immutable += 10\n",
        "    print(\"Inside function, immutable (after modification):\", immutable)\n",
        "\n",
        "# Define a mutable (list) and immutable (integer) argument\n",
        "my_list = [11, 9, 10]  # Mutable\n",
        "my_number = 5        # Immutable\n",
        "# Print initial values\n",
        "print(\"Before function call, mutable_arg:\", my_list)\n",
        "print(\"Before function call, immutable_arg:\", my_number)\n",
        "\n",
        "# Call the function\n",
        "demonstrate_mutable_and_immutable(my_list, my_number)\n",
        "\n",
        "# Print values after function call\n",
        "print(\"After function call, mutable_arg:\", my_list)\n",
        "print(\"After function call, immutable_arg:\", my_number)\n"
      ],
      "metadata": {
        "colab": {
          "base_uri": "https://localhost:8080/"
        },
        "id": "mLaMqm_g9A4o",
        "outputId": "6c560a9e-4395-48f7-c10c-612fe63a69a0"
      },
      "execution_count": 8,
      "outputs": [
        {
          "output_type": "stream",
          "name": "stdout",
          "text": [
            "Before function call, mutable_arg: [11, 9, 10]\n",
            "Before function call, immutable_arg: 5\n",
            "Inside function, mutable(after modification): [11, 9, 10, 7922]\n",
            "Inside function, immutable (after modification): 15\n",
            "After function call, mutable_arg: [11, 9, 10, 7922]\n",
            "After function call, immutable_arg: 5\n"
          ]
        }
      ]
    },
    {
      "cell_type": "code",
      "source": [
        "#Q7)Write a function to demonstrate the behavior of mutable and immutable arguments\n",
        "# same as Q6"
      ],
      "metadata": {
        "id": "qev2YZLt9SmO"
      },
      "execution_count": null,
      "outputs": []
    },
    {
      "cell_type": "code",
      "source": [
        "#Q8)Write a program to demonstrate the use of logical operators\n",
        "#logical operators are and,or and not\n",
        "is_vip=True\n",
        "age=int(input(\"Enter your age:\"))\n",
        "if is_vip==True:\n",
        "  if age>=18 and is_vip==True:\n",
        "    print(\"You are eligible for vip\")\n",
        "  elif age>65 or is_vip==True:\n",
        "    print(\"You are eligible for vip\")\n",
        "  elif not is_vip==True:\n",
        "    print(\"You are not eligible\")\n",
        "  else:\n",
        "    print(\"You are not eligible\")\n",
        "elif is_vip==False:\n",
        "  print(\"You are not eligible\")\n",
        "else:\n",
        "  print(\"You are not eligible\")"
      ],
      "metadata": {
        "colab": {
          "base_uri": "https://localhost:8080/"
        },
        "id": "fuWO1dkk9bFj",
        "outputId": "668e3c6a-078f-4e26-b2aa-613ed9c47c2e"
      },
      "execution_count": 9,
      "outputs": [
        {
          "output_type": "stream",
          "name": "stdout",
          "text": [
            "Enter your age:22\n",
            "You are eligible for vip\n"
          ]
        }
      ]
    },
    {
      "cell_type": "code",
      "source": [
        "#Q9)Write a Python program to convert user input from string to integer, float, and boolean types\n",
        "number=input(\"Enter a number:\")#by default data_type is a string\n",
        "type(number)\n",
        "a=type(int(number))\n",
        "print(a)\n",
        "b=type(float(number))\n",
        "print(b)\n",
        "c=type(bool(number))\n",
        "print(c)"
      ],
      "metadata": {
        "colab": {
          "base_uri": "https://localhost:8080/"
        },
        "id": "Lr8IICKA9kdg",
        "outputId": "a8a29816-5d54-4492-d4c3-175ccf274e42"
      },
      "execution_count": 10,
      "outputs": [
        {
          "output_type": "stream",
          "name": "stdout",
          "text": [
            "Enter a number:7\n",
            "<class 'int'>\n",
            "<class 'float'>\n",
            "<class 'bool'>\n"
          ]
        }
      ]
    },
    {
      "cell_type": "code",
      "source": [
        "#Q10)Write code to demonstrate type casting with list elements\n",
        "my_list=[22,\"Taha\",56.9,True,12.3]#list\n",
        "print(type(my_list[4]))\n",
        "my_list[4]=int(my_list[4])#typecasting/typeconversion\n",
        "print(type(my_list[4]))"
      ],
      "metadata": {
        "colab": {
          "base_uri": "https://localhost:8080/"
        },
        "id": "IZVFFGVE9vxk",
        "outputId": "9cba722b-2fd8-428e-eef5-21c603f6dd4b"
      },
      "execution_count": 11,
      "outputs": [
        {
          "output_type": "stream",
          "name": "stdout",
          "text": [
            "<class 'float'>\n",
            "<class 'int'>\n"
          ]
        }
      ]
    },
    {
      "cell_type": "code",
      "source": [
        "#Q11)Write a program that checks if a number is positive, negative, or zero\n",
        "number=int(input(\"Enter a number:\"))\n",
        "if number>0:\n",
        "  print(\"Number is positive\")\n",
        "elif number<0:\n",
        "  print(\"Number is negative\")\n",
        "else:\n",
        "  print(\"Number is zero\")"
      ],
      "metadata": {
        "colab": {
          "base_uri": "https://localhost:8080/"
        },
        "id": "2271dH_E99Ic",
        "outputId": "cf9219b5-345e-4516-d6f5-e62fc2d72e1d"
      },
      "execution_count": 12,
      "outputs": [
        {
          "output_type": "stream",
          "name": "stdout",
          "text": [
            "Enter a number:34\n",
            "Number is positive\n"
          ]
        }
      ]
    },
    {
      "cell_type": "code",
      "source": [
        "#Q12)Write a for loop to print numbers from 1 to 100\n",
        "i=1\n",
        "for i in range(1,11):\n",
        "  print(i)"
      ],
      "metadata": {
        "colab": {
          "base_uri": "https://localhost:8080/"
        },
        "id": "QEX0iQwU-Dzm",
        "outputId": "ae3c879e-d23b-4d76-c2ae-a51f0a41266e"
      },
      "execution_count": 13,
      "outputs": [
        {
          "output_type": "stream",
          "name": "stdout",
          "text": [
            "1\n",
            "2\n",
            "3\n",
            "4\n",
            "5\n",
            "6\n",
            "7\n",
            "8\n",
            "9\n",
            "10\n"
          ]
        }
      ]
    },
    {
      "cell_type": "code",
      "source": [
        "#Q13)Write a Python program to find the sum of all even numbers between 1 and 50\n",
        "i=0\n",
        "sum=0\n",
        "for i in range(0,51,2):\n",
        "  sum+=i #sum=sum+i\n",
        "print(sum)"
      ],
      "metadata": {
        "colab": {
          "base_uri": "https://localhost:8080/"
        },
        "id": "3aP4SNhd-hkh",
        "outputId": "ee0f1db5-4de2-467e-a683-ff78f7d17afb"
      },
      "execution_count": 14,
      "outputs": [
        {
          "output_type": "stream",
          "name": "stdout",
          "text": [
            "650\n"
          ]
        }
      ]
    },
    {
      "cell_type": "code",
      "source": [
        "#Q14)Write a program to reverse a string using a while loop\n",
        "user_input = input(\"Enter a string: \")\n",
        "reversed_string = \"\"\n",
        "index = len(user_input) - 1  # Start from the last character\n",
        "while index >= 0:\n",
        "    reversed_string += user_input[index]\n",
        "    index -= 1\n",
        "print(\"Reversed string:\", reversed_string)"
      ],
      "metadata": {
        "colab": {
          "base_uri": "https://localhost:8080/"
        },
        "id": "ubd8QTBa-qkQ",
        "outputId": "2641b6ba-538d-4aab-aeaf-ef71c9a9b599"
      },
      "execution_count": 15,
      "outputs": [
        {
          "output_type": "stream",
          "name": "stdout",
          "text": [
            "Enter a string: Taha\n",
            "Reversed string: ahaT\n"
          ]
        }
      ]
    },
    {
      "cell_type": "code",
      "source": [
        "#Q15)Write a Python program to calculate the factorial of a number provided by the user using a while loop.\n",
        "num = int(input(\"Enter a number: \"))\n",
        "factorial = 1\n",
        "i = 1\n",
        "while i <= num:\n",
        "    factorial *= i  # Multiply factorial by i\n",
        "    i += 1  # Increment i\n",
        "print(\"The factorial of\",num,\"is:\",factorial)"
      ],
      "metadata": {
        "colab": {
          "base_uri": "https://localhost:8080/"
        },
        "id": "VznvM9GK-_Fq",
        "outputId": "9c0a84c3-06a2-4374-f861-cfceb10078a7"
      },
      "execution_count": 16,
      "outputs": [
        {
          "output_type": "stream",
          "name": "stdout",
          "text": [
            "Enter a number: 7\n",
            "The factorial of 7 is: 5040\n"
          ]
        }
      ]
    }
  ]
}